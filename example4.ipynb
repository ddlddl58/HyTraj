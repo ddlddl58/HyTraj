{
 "cells": [
  {
   "cell_type": "code",
   "execution_count": 1,
   "metadata": {},
   "outputs": [
    {
     "name": "stdout",
     "output_type": "stream",
     "text": [
      "autotime loaded.\n",
      "autotime loaded.\n",
      "black loaded.\n",
      "black loaded.\n",
      "time: 1.38 s\n"
     ]
    },
    {
     "data": {
      "application/javascript": [
       "\n",
       "            setTimeout(function() {\n",
       "                var nbb_cell_id = 1;\n",
       "                var nbb_unformatted_code = \"from init import *\\nfrom hytraj import HyCluster, HyData\";\n",
       "                var nbb_formatted_code = \"from init import *\\nfrom hytraj import HyCluster, HyData\";\n",
       "                var nbb_cells = Jupyter.notebook.get_cells();\n",
       "                for (var i = 0; i < nbb_cells.length; ++i) {\n",
       "                    if (nbb_cells[i].input_prompt_number == nbb_cell_id) {\n",
       "                        if (nbb_cells[i].get_text() == nbb_unformatted_code) {\n",
       "                             nbb_cells[i].set_text(nbb_formatted_code);\n",
       "                        }\n",
       "                        break;\n",
       "                    }\n",
       "                }\n",
       "            }, 500);\n",
       "            "
      ],
      "text/plain": [
       "<IPython.core.display.Javascript object>"
      ]
     },
     "metadata": {},
     "output_type": "display_data"
    }
   ],
   "source": [
    "from init import *\n",
    "from hytraj import HyCluster, HyData"
   ]
  },
  {
   "cell_type": "code",
   "execution_count": 2,
   "metadata": {},
   "outputs": [
    {
     "data": {
      "text/plain": [
       "2010-02-01    3\n",
       "2010-02-02    0\n",
       "2010-02-03    0\n",
       "2010-02-04    0\n",
       "2010-02-05    0\n",
       "2010-02-06    0\n",
       "2010-02-07    2\n",
       "2010-02-08    2\n",
       "2010-02-09    1\n",
       "2010-02-10    4\n",
       "dtype: int32"
      ]
     },
     "execution_count": 2,
     "metadata": {},
     "output_type": "execute_result"
    },
    {
     "name": "stdout",
     "output_type": "stream",
     "text": [
      "time: 242 ms\n"
     ]
    },
    {
     "data": {
      "application/javascript": [
       "\n",
       "            setTimeout(function() {\n",
       "                var nbb_cell_id = 2;\n",
       "                var nbb_unformatted_code = \"stations = {\\n    \\\"Davis\\\": (-69, 78),\\n    \\\"South Pole\\\": (-90, 335),\\n    \\\"Neumayer\\\": (-71, 352),\\n    \\\"Marambio\\\": (-64, 303),\\n    \\\"Maitri\\\": (-70, 11),\\n}\\n\\nstations = list(stations.keys())\\nfiles = sorted(glob.glob(\\\"/home/pankaj/Desktop/out/ncep*\\\"))\\ndata = HyData(files, stations).read()[\\\"Davis\\\"]\\n\\nlabels = HyCluster(data).fit(kmax=10)\\nlabels\";\n",
       "                var nbb_formatted_code = \"stations = {\\n    \\\"Davis\\\": (-69, 78),\\n    \\\"South Pole\\\": (-90, 335),\\n    \\\"Neumayer\\\": (-71, 352),\\n    \\\"Marambio\\\": (-64, 303),\\n    \\\"Maitri\\\": (-70, 11),\\n}\\n\\nstations = list(stations.keys())\\nfiles = sorted(glob.glob(\\\"/home/pankaj/Desktop/out/ncep*\\\"))\\ndata = HyData(files, stations).read()[\\\"Davis\\\"]\\n\\nlabels = HyCluster(data).fit(kmax=10)\\nlabels\";\n",
       "                var nbb_cells = Jupyter.notebook.get_cells();\n",
       "                for (var i = 0; i < nbb_cells.length; ++i) {\n",
       "                    if (nbb_cells[i].input_prompt_number == nbb_cell_id) {\n",
       "                        if (nbb_cells[i].get_text() == nbb_unformatted_code) {\n",
       "                             nbb_cells[i].set_text(nbb_formatted_code);\n",
       "                        }\n",
       "                        break;\n",
       "                    }\n",
       "                }\n",
       "            }, 500);\n",
       "            "
      ],
      "text/plain": [
       "<IPython.core.display.Javascript object>"
      ]
     },
     "metadata": {},
     "output_type": "display_data"
    }
   ],
   "source": [
    "stations = {\n",
    "    \"Davis\": (-69, 78),\n",
    "    \"South Pole\": (-90, 335),\n",
    "    \"Neumayer\": (-71, 352),\n",
    "    \"Marambio\": (-64, 303),\n",
    "    \"Maitri\": (-70, 11),\n",
    "}\n",
    "\n",
    "stations = list(stations.keys())\n",
    "files = sorted(glob.glob(\"/home/pankaj/Desktop/out/ncep*\"))\n",
    "data = HyData(files, stations).read()[\"Davis\"]\n",
    "\n",
    "labels = HyCluster(data).fit(kmax=10)\n",
    "labels"
   ]
  }
 ],
 "metadata": {
  "kernelspec": {
   "display_name": "Python 3",
   "language": "python",
   "name": "python3"
  },
  "language_info": {
   "codemirror_mode": {
    "name": "ipython",
    "version": 3
   },
   "file_extension": ".py",
   "mimetype": "text/x-python",
   "name": "python",
   "nbconvert_exporter": "python",
   "pygments_lexer": "ipython3",
   "version": "3.8.3"
  }
 },
 "nbformat": 4,
 "nbformat_minor": 4
}
