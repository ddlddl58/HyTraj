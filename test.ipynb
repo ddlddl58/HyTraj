{
 "cells": [
  {
   "cell_type": "code",
   "execution_count": 1,
   "metadata": {},
   "outputs": [
    {
     "name": "stdout",
     "output_type": "stream",
     "text": [
      "autotime loaded.\n",
      "autotime loaded.\n",
      "black loaded.\n",
      "black loaded.\n",
      "time: 1 s\n"
     ]
    },
    {
     "data": {
      "application/javascript": [
       "\n",
       "            setTimeout(function() {\n",
       "                var nbb_cell_id = 1;\n",
       "                var nbb_unformatted_code = \"from init import *\\nfrom hytraj import HyControl, HyParallel\";\n",
       "                var nbb_formatted_code = \"from init import *\\nfrom hytraj import HyControl, HyParallel\";\n",
       "                var nbb_cells = Jupyter.notebook.get_cells();\n",
       "                for (var i = 0; i < nbb_cells.length; ++i) {\n",
       "                    if (nbb_cells[i].input_prompt_number == nbb_cell_id) {\n",
       "                        if (nbb_cells[i].get_text() == nbb_unformatted_code) {\n",
       "                             nbb_cells[i].set_text(nbb_formatted_code);\n",
       "                        }\n",
       "                        break;\n",
       "                    }\n",
       "                }\n",
       "            }, 500);\n",
       "            "
      ],
      "text/plain": [
       "<IPython.core.display.Javascript object>"
      ]
     },
     "metadata": {},
     "output_type": "display_data"
    }
   ],
   "source": [
    "from init import *\n",
    "from hytraj import HyControl, HyParallel"
   ]
  },
  {
   "cell_type": "code",
   "execution_count": 2,
   "metadata": {},
   "outputs": [
    {
     "name": "stdout",
     "output_type": "stream",
     "text": [
      "Python implementation: CPython\n",
      "Python version       : 3.8.3\n",
      "IPython version      : 7.16.1\n",
      "\n",
      "pandas    : 1.0.5\n",
      "numpy     : 1.18.5\n",
      "scipy     : 1.5.0\n",
      "geopandas : 0.8.1\n",
      "h5py      : 2.10.0\n",
      "xarray    : 0.16.1\n",
      "matplotlib: 3.2.2\n",
      "\n",
      "time: 101 ms\n"
     ]
    },
    {
     "data": {
      "application/javascript": [
       "\n",
       "            setTimeout(function() {\n",
       "                var nbb_cell_id = 2;\n",
       "                var nbb_unformatted_code = \"%watermark -n -v -iv\";\n",
       "                var nbb_formatted_code = \"%watermark -n -v -iv\";\n",
       "                var nbb_cells = Jupyter.notebook.get_cells();\n",
       "                for (var i = 0; i < nbb_cells.length; ++i) {\n",
       "                    if (nbb_cells[i].input_prompt_number == nbb_cell_id) {\n",
       "                        if (nbb_cells[i].get_text() == nbb_unformatted_code) {\n",
       "                             nbb_cells[i].set_text(nbb_formatted_code);\n",
       "                        }\n",
       "                        break;\n",
       "                    }\n",
       "                }\n",
       "            }, 500);\n",
       "            "
      ],
      "text/plain": [
       "<IPython.core.display.Javascript object>"
      ]
     },
     "metadata": {},
     "output_type": "display_data"
    }
   ],
   "source": [
    "%watermark -n -v -iv"
   ]
  },
  {
   "cell_type": "code",
   "execution_count": 3,
   "metadata": {},
   "outputs": [
    {
     "name": "stdout",
     "output_type": "stream",
     "text": [
      "time: 78.4 ms\n"
     ]
    },
    {
     "data": {
      "application/javascript": [
       "\n",
       "            setTimeout(function() {\n",
       "                var nbb_cell_id = 3;\n",
       "                var nbb_unformatted_code = \"heights = [500]\\nrun_time = -360\\nyears = np.arange(2010, 2011)\\n\\nstations = [\\\"davs\\\", \\\"marb\\\", \\\"mcmu\\\", \\\"spol\\\", \\\"syow\\\", \\\"neum\\\"]\\nmetdir = \\\"/home/pankaj/Desktop/met/\\\"\\noutbase = \\\"/home/pankaj/Desktop/out/\\\"\\nworking = \\\"/home/pankaj/phd/code/hytraj/working/\\\"\\ncdir = \\\"/home/pankaj/Desktop/control/\\\"\\n\\nfor height in heights:\\n    outdir = outbase + str(height) + \\\"/\\\"\\n    if not os.path.exists(outdir):\\n        os.mkdir(outdir)\\n    for year in years:\\n        hy = HyControl(\\n            year,\\n            stations,\\n            height,\\n            run_time,\\n            working,\\n            metdir,\\n            outdir,\\n            met_type=\\\"ncep\\\",\\n            hysplit=\\\"/home/pankaj/phd/code/hytraj/working/hyts_std\\\",\\n        )\\n        hy = hy.run(vertical=0, model_top=10000.0, cdir=cdir)\";\n",
       "                var nbb_formatted_code = \"heights = [500]\\nrun_time = -360\\nyears = np.arange(2010, 2011)\\n\\nstations = [\\\"davs\\\", \\\"marb\\\", \\\"mcmu\\\", \\\"spol\\\", \\\"syow\\\", \\\"neum\\\"]\\nmetdir = \\\"/home/pankaj/Desktop/met/\\\"\\noutbase = \\\"/home/pankaj/Desktop/out/\\\"\\nworking = \\\"/home/pankaj/phd/code/hytraj/working/\\\"\\ncdir = \\\"/home/pankaj/Desktop/control/\\\"\\n\\nfor height in heights:\\n    outdir = outbase + str(height) + \\\"/\\\"\\n    if not os.path.exists(outdir):\\n        os.mkdir(outdir)\\n    for year in years:\\n        hy = HyControl(\\n            year,\\n            stations,\\n            height,\\n            run_time,\\n            working,\\n            metdir,\\n            outdir,\\n            met_type=\\\"ncep\\\",\\n            hysplit=\\\"/home/pankaj/phd/code/hytraj/working/hyts_std\\\",\\n        )\\n        hy = hy.run(vertical=0, model_top=10000.0, cdir=cdir)\";\n",
       "                var nbb_cells = Jupyter.notebook.get_cells();\n",
       "                for (var i = 0; i < nbb_cells.length; ++i) {\n",
       "                    if (nbb_cells[i].input_prompt_number == nbb_cell_id) {\n",
       "                        if (nbb_cells[i].get_text() == nbb_unformatted_code) {\n",
       "                             nbb_cells[i].set_text(nbb_formatted_code);\n",
       "                        }\n",
       "                        break;\n",
       "                    }\n",
       "                }\n",
       "            }, 500);\n",
       "            "
      ],
      "text/plain": [
       "<IPython.core.display.Javascript object>"
      ]
     },
     "metadata": {},
     "output_type": "display_data"
    }
   ],
   "source": [
    "heights = [500]\n",
    "run_time = -360\n",
    "years = np.arange(2010, 2011)\n",
    "\n",
    "stations = [\"davs\", \"marb\", \"mcmu\", \"spol\", \"syow\", \"neum\"]\n",
    "metdir = \"/home/pankaj/Desktop/met/\"\n",
    "outbase = \"/home/pankaj/Desktop/out/\"\n",
    "working = \"/home/pankaj/phd/code/hytraj/working/\"\n",
    "cdir = \"/home/pankaj/Desktop/control/\"\n",
    "\n",
    "for height in heights:\n",
    "    outdir = outbase + str(height) + \"/\"\n",
    "    if not os.path.exists(outdir):\n",
    "        os.mkdir(outdir)\n",
    "    for year in years:\n",
    "        hy = HyControl(\n",
    "            year,\n",
    "            stations,\n",
    "            height,\n",
    "            run_time,\n",
    "            working,\n",
    "            metdir,\n",
    "            outdir,\n",
    "            met_type=\"ncep\",\n",
    "            hysplit=\"/home/pankaj/phd/code/hytraj/working/hyts_std\",\n",
    "        )\n",
    "        hy = hy.run(vertical=0, model_top=10000.0, cdir=cdir)"
   ]
  },
  {
   "cell_type": "code",
   "execution_count": null,
   "metadata": {},
   "outputs": [],
   "source": [
    "cfiles = glob.glob(cdir + \"2010021*\")\n",
    "hy = HyParallel(cfiles, ncpu=7)\n",
    "hy.run()"
   ]
  }
 ],
 "metadata": {
  "kernelspec": {
   "display_name": "Python 3",
   "language": "python",
   "name": "python3"
  },
  "language_info": {
   "codemirror_mode": {
    "name": "ipython",
    "version": 3
   },
   "file_extension": ".py",
   "mimetype": "text/x-python",
   "name": "python",
   "nbconvert_exporter": "python",
   "pygments_lexer": "ipython3",
   "version": "3.8.3"
  }
 },
 "nbformat": 4,
 "nbformat_minor": 4
}
